{
 "cells": [
  {
   "cell_type": "markdown",
   "id": "96be3674",
   "metadata": {},
   "source": [
    "# Exercise 00\n",
    "Write a piece of code that allocates a list of 20 integers and initializes each element by its index multiplied by 5. Print the result."
   ]
  },
  {
   "cell_type": "code",
   "execution_count": 7,
   "id": "f97da827",
   "metadata": {},
   "outputs": [
    {
     "name": "stdout",
     "output_type": "stream",
     "text": [
      "[47, 63, 25, 76, 65, 76, 64, 41, 3, 13, 30, 84, 98, 35, 96, 56, 12, 43, 91, 65]\n",
      "235\n",
      "315\n",
      "125\n",
      "380\n",
      "325\n",
      "380\n",
      "320\n",
      "205\n",
      "15\n",
      "65\n",
      "150\n",
      "420\n",
      "490\n",
      "175\n",
      "480\n",
      "280\n",
      "60\n",
      "215\n",
      "455\n",
      "325\n"
     ]
    }
   ],
   "source": [
    "import random\n",
    "my_list=[random.randint(1,100)for i in range(20)]\n",
    "print(my_list)\n",
    "\n",
    "for i in my_list:\n",
    "    print(i*5)\n",
    "    \n",
    "    "
   ]
  },
  {
   "cell_type": "markdown",
   "id": "ec767655",
   "metadata": {},
   "source": [
    "# Exercise 01\n",
    "Define a function that takes an integer as input, prints  all integers that it is divisable by, and returns the largest one."
   ]
  },
  {
   "cell_type": "code",
   "execution_count": 28,
   "id": "e700e06b",
   "metadata": {},
   "outputs": [],
   "source": [
    "def enter_a_integer(number):\n",
    "    number=int(number)\n",
    "    \n",
    "    n=1\n",
    "    the_list=[]\n",
    "    while n<=number:\n",
    "        if number%n==0 and (number/n)!=1:\n",
    "            the_list.append(n)\n",
    "        n+=1\n",
    "    print(the_list)\n",
    "    the_list.sort(reverse=True)\n",
    "    return the_list[0]"
   ]
  },
  {
   "cell_type": "code",
   "execution_count": 29,
   "id": "e3290092",
   "metadata": {},
   "outputs": [
    {
     "name": "stdout",
     "output_type": "stream",
     "text": [
      "[1, 2, 31]\n",
      "31\n"
     ]
    }
   ],
   "source": [
    "a=enter_a_integer(62)\n",
    "print(a)"
   ]
  },
  {
   "cell_type": "markdown",
   "id": "3ad75d72",
   "metadata": {},
   "source": [
    "# Exercise 02\n",
    "- create a dictionary with 6 keys and values of your choice\n",
    "- write a function that takes a dictionary and a value as input and returns whether the value occurs as a key in the dictionary\n",
    "- write a function that takes a dictionary as input, and returns the dictionary but the keys are swapped with their values (resolve the issue if a value occurs twice!)"
   ]
  },
  {
   "cell_type": "code",
   "execution_count": 34,
   "id": "d6020f0f",
   "metadata": {},
   "outputs": [
    {
     "name": "stdout",
     "output_type": "stream",
     "text": [
      "checked_value is not in the key of my dictionary\n"
     ]
    }
   ],
   "source": [
    "def check(myDict,value):\n",
    "    if value in myDict.keys():\n",
    "        return True\n",
    "    else:\n",
    "        return False\n",
    "    \n",
    "    \n",
    "myDict={\"A\":1,\"B\":2,\"C\":3}\n",
    "checked_value=3\n",
    "\n",
    "if check(myDict,checked_value):\n",
    "    print(\"checked_value is in the key of my dictionary\")\n",
    "else:\n",
    "    print(\"checked_value is not in the key of my dictionary\")\n",
    "    "
   ]
  },
  {
   "cell_type": "code",
   "execution_count": 40,
   "id": "67508da1",
   "metadata": {},
   "outputs": [
    {
     "name": "stdout",
     "output_type": "stream",
     "text": [
      "{1: 'd', 2: 'e', 3: 'f'}\n"
     ]
    }
   ],
   "source": [
    "def setDict(the_Dict):\n",
    "    newDict={}\n",
    "    for x,y in the_Dict.items():\n",
    "        newDict[y]=x\n",
    "    return newDict\n",
    "\n",
    "the_Dict={\"d\":1,\"e\":2,\"f\":3}\n",
    "newDict=setDict(the_Dict)\n",
    "print(newDict)\n",
    "   "
   ]
  },
  {
   "cell_type": "markdown",
   "id": "41ecd998",
   "metadata": {},
   "source": [
    "# Exercise 03\n",
    "Define a function that creates a dictionary of the first n fibonacci numbers as values paired with their indices as keys. "
   ]
  },
  {
   "cell_type": "code",
   "execution_count": 45,
   "id": "f6e05897",
   "metadata": {},
   "outputs": [],
   "source": [
    "def fun(n):\n",
    "    fibonacciDict={}\n",
    "    \n",
    "    a=1\n",
    "    b=1\n",
    "    \n",
    "    if n<=0:\n",
    "        return fibonacciDict\n",
    "    for i in range(1,n+1):\n",
    "        fibonacciDict[i]=a\n",
    "        \n",
    "        t=a\n",
    "        a=b\n",
    "        b=t+b\n",
    "    return fibonacciDict\n",
    "    \n",
    "    \n",
    "    "
   ]
  },
  {
   "cell_type": "code",
   "execution_count": 46,
   "id": "3713ced3",
   "metadata": {},
   "outputs": [
    {
     "name": "stdout",
     "output_type": "stream",
     "text": [
      "{1: 1, 2: 1, 3: 2, 4: 3}\n"
     ]
    }
   ],
   "source": [
    "finaDict=fun(4)\n",
    "print(finaDict)"
   ]
  },
  {
   "cell_type": "code",
   "execution_count": null,
   "id": "52261eae",
   "metadata": {},
   "outputs": [],
   "source": []
  }
 ],
 "metadata": {
  "kernelspec": {
   "display_name": "Python 3",
   "language": "python",
   "name": "python3"
  },
  "language_info": {
   "codemirror_mode": {
    "name": "ipython",
    "version": 3
   },
   "file_extension": ".py",
   "mimetype": "text/x-python",
   "name": "python",
   "nbconvert_exporter": "python",
   "pygments_lexer": "ipython3",
   "version": "3.8.5"
  }
 },
 "nbformat": 4,
 "nbformat_minor": 5
}
