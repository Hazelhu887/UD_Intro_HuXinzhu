{
 "cells": [
  {
   "cell_type": "markdown",
   "metadata": {},
   "source": [
    "# Exercise 00\n",
    "Write a bit of code that prints _Introduction to Programming_ to the console and execute the cell"
   ]
  },
  {
   "cell_type": "code",
   "execution_count": 1,
   "metadata": {},
   "outputs": [
    {
     "name": "stdout",
     "output_type": "stream",
     "text": [
      "Introduction to Programming\n"
     ]
    }
   ],
   "source": [
    "print('Introduction to Programming')    "
   ]
  },
  {
   "cell_type": "markdown",
   "metadata": {},
   "source": [
    "-----------------------------------------------------------------------------\n",
    "# Exercise 01\n",
    "Hello World is traditionally the first program anyone writes. It is\n",
    "very simple and the only thing it should do is print Hello World! to the\n",
    "terminal window.\n",
    "Create a file called HelloWorld.py and edit the contents so it prints Hello World! to the terminal and execute it using the command line."
   ]
  },
  {
   "cell_type": "markdown",
   "metadata": {},
   "source": [
    "-----------------------------------------------------------------------------\n",
    "# Exercise 02\n",
    "Write some code to print your name, email, and age on separate lines. For each element first assign it to a variable and use the variable to print. \n",
    "\n",
    "Bonus: try to create the print statement for all variable in one line of code. (hint: '\\n' is the character for a new line)"
   ]
  },
  {
   "cell_type": "code",
   "execution_count": 6,
   "metadata": {},
   "outputs": [
    {
     "name": "stdout",
     "output_type": "stream",
     "text": [
      "Xinzhu HU\n",
      "ucbvxh1@ucl.ac.uk\n",
      "22\n",
      "Xinzhu HU\n",
      "ucbvxh1@ucl.ac.uk\n",
      "22\n",
      "myName:Xinzhu HU \n",
      "myMail:ucbvxh1@ucl.ac.uk \n",
      "myAge:22\n"
     ]
    }
   ],
   "source": [
    "myName=\"Xinzhu HU\"\n",
    "myMail=\"ucbvxh1@ucl.ac.uk\"\n",
    "myAge=\"22\"\n",
    "print(myName)\n",
    "print(myMail)\n",
    "print(myAge)\n",
    "\n",
    "\n",
    "print(myName+'\\n'+myMail+'\\n'+myAge)\n",
    "print(f\"myName:{myName} \\nmyMail:{myMail} \\nmyAge:{myAge}\")"
   ]
  },
  {
   "cell_type": "markdown",
   "metadata": {},
   "source": [
    "-----------------------------------------------------------------------------\n",
    "# Exercise 03\n",
    "Print the numbers 0, 178, -21, 2938 divided by 49, 436 multiplied with 9948 and 12 to the power of 20\n",
    "\n",
    "(Hint: Look up the documentation of basic arithmetic operators)"
   ]
  },
  {
   "cell_type": "code",
   "execution_count": 3,
   "metadata": {},
   "outputs": [
    {
     "name": "stdout",
     "output_type": "stream",
     "text": [
      "0.0\n",
      "3.63265306122449\n",
      "-0.42857142857142855\n",
      "59.95918367346939\n",
      "4337328\n",
      "3833759992447475122176\n"
     ]
    }
   ],
   "source": [
    "for i in [0,178,-21,2938]:\n",
    "    print(i/49)\n",
    "print(436*9948)\n",
    "print(12**20)"
   ]
  },
  {
   "cell_type": "markdown",
   "metadata": {},
   "source": [
    "-----------------------------------------------------------------------------\n",
    "# Exercise 04\n",
    "Print sin(200), cos(100), tan($\\pi$/4)\n",
    "\n",
    "(Hint: Look up for how to use trigonometric function, and how to get the value of $\\pi$.)"
   ]
  },
  {
   "cell_type": "code",
   "execution_count": 4,
   "metadata": {},
   "outputs": [
    {
     "name": "stdout",
     "output_type": "stream",
     "text": [
      "-0.8732972972139946 0.8623188722876839 0.9999999999999999\n"
     ]
    }
   ],
   "source": [
    "import math\n",
    "n1=math.sin(200)\n",
    "n2=math.cos(100)\n",
    "n3=math.tan(math.pi/4)\n",
    "\n",
    "print(n1,n2,n3)\n"
   ]
  },
  {
   "cell_type": "code",
   "execution_count": null,
   "metadata": {},
   "outputs": [],
   "source": [
    "math.radians()是括号内的东西要转换为弧度的度数"
   ]
  },
  {
   "cell_type": "code",
   "execution_count": 7,
   "metadata": {},
   "outputs": [
    {
     "name": "stdout",
     "output_type": "stream",
     "text": [
      "-0.34202014332566866\n",
      "-0.1736481776669303\n",
      "0.9999999999999999\n"
     ]
    }
   ],
   "source": [
    "from math import sin, cos, tan, radians, pi\n",
    "print(sin(radians(200)))\n",
    "print(cos(radians(100)))\n",
    "print(tan(pi/4))"
   ]
  },
  {
   "cell_type": "code",
   "execution_count": 8,
   "metadata": {},
   "outputs": [
    {
     "name": "stdout",
     "output_type": "stream",
     "text": [
      "-0.8732972972139946 0.8623188722876839 0.9999999999999999\n"
     ]
    }
   ],
   "source": [
    "from math import sin, cos,tan\n",
    "n1=sin(200)\n",
    "n2=cos(100)\n",
    "n3=tan(pi/4)\n",
    "print(n1, n2, n3)\n"
   ]
  },
  {
   "cell_type": "markdown",
   "metadata": {},
   "source": [
    "-----------------------------------------------------------------------------\n",
    "# Exercise 05\n",
    "Write a program to read your first and last names from the console seperately, and then print them on the console together, separated by a space."
   ]
  },
  {
   "cell_type": "code",
   "execution_count": 9,
   "metadata": {},
   "outputs": [
    {
     "name": "stdout",
     "output_type": "stream",
     "text": [
      "hazel\n",
      "hu\n",
      "hazel hu\n"
     ]
    }
   ],
   "source": [
    "firstname=input()\n",
    "lastname=input()\n",
    "print(firstname + \" \" + lastname)"
   ]
  },
  {
   "cell_type": "markdown",
   "metadata": {},
   "source": [
    "-----------------------------------------------------------------------------\n",
    "# Exercise 06\n",
    "Write a program that determines whether a number given as user input is positive or negative\n",
    " \n",
    "You will need to convert the console input from a string to a number first!"
   ]
  },
  {
   "cell_type": "code",
   "execution_count": 9,
   "metadata": {},
   "outputs": [
    {
     "name": "stdout",
     "output_type": "stream",
     "text": [
      "3\n",
      "the number is positive\n"
     ]
    }
   ],
   "source": [
    "number=float(input())\n",
    "if number>0:\n",
    "    print('the number is positive')\n",
    "elif number<0:\n",
    "    print('the number is negative')"
   ]
  },
  {
   "cell_type": "code",
   "execution_count": 14,
   "metadata": {},
   "outputs": [
    {
     "name": "stdout",
     "output_type": "stream",
     "text": [
      "number: -35\n",
      "the number is negative\n"
     ]
    }
   ],
   "source": [
    "given_number=float(input(\"number: \"))\n",
    "if given_number>0:\n",
    "    print('the number is positive')\n",
    "elif given_number<0:\n",
    "    print('the number is negative')\n",
    "else:\n",
    "    print('the number is zero')"
   ]
  },
  {
   "cell_type": "markdown",
   "metadata": {},
   "source": [
    "-----------------------------------------------------------------------------\n",
    "# Exercise 07\n",
    "Write a program that picks a random number between 1-20 and makes the user guess until they get the number right. Then print a congratulations message\n",
    "- (Find out yourself how to generate a random integer)\n",
    "- Bonus: make the user choose the range within which they have to guess\n",
    "- Bonus: keep track of how many guesses were made and print this at the end"
   ]
  },
  {
   "cell_type": "code",
   "execution_count": 11,
   "metadata": {},
   "outputs": [
    {
     "name": "stdout",
     "output_type": "stream",
     "text": [
      "set your lower range: 3\n",
      "set your upper range: 17\n",
      "now you can guess the number\n",
      "please guess: 8\n",
      "please guess: 8\n",
      "please guess: 16\n",
      "please guess: 15\n",
      "please guess: 14\n",
      "please guess: 13\n",
      "please guess: 12\n",
      "please guess: 11\n",
      "please guess: 10\n",
      "please guess: 9\n",
      "please guess: 8\n",
      "please guess: 7\n",
      "please guess: 6\n",
      "please guess: 5\n",
      "congratulations! you guessed the right number in 14!\n"
     ]
    }
   ],
   "source": [
    "import random\n",
    "\n",
    "lr=int(input(\"set your lower range: \"))\n",
    "ur=int(input(\"set your upper range: \"))\n",
    "\n",
    "random_number=random.randint(lr,ur)\n",
    "guess_number=lr-1\n",
    "guess_times=0\n",
    "\n",
    "print(\"now you can guess the number\")\n",
    "\n",
    "while guess_number!=random_number:\n",
    "    guess_times+=1\n",
    "    guess_number=int(input(\"please guess: \"))\n",
    "\n",
    "print(f\"congratulations! you guessed the right number in {guess_times}!\")"
   ]
  },
  {
   "cell_type": "code",
   "execution_count": null,
   "metadata": {},
   "outputs": [],
   "source": [
    "randint(a,b)指a到b之间的整数，包括a和b,等于range(a,b+1),random指随机\n",
    "lr-1这一步是确保我们的初始猜测是在范围之外的是错误的，所以可以启动运算进入loop，所以lr-2也可以，只要是错的都可以"
   ]
  },
  {
   "cell_type": "code",
   "execution_count": 6,
   "metadata": {},
   "outputs": [
    {
     "name": "stdout",
     "output_type": "stream",
     "text": [
      "now you can guess the number\n",
      "6\n",
      "sorry please try again.\n",
      "9\n",
      "sorry please try again.\n",
      "44\n",
      "sorry please try again.\n",
      "12\n",
      "congratulations!\n",
      "\n"
     ]
    },
    {
     "ename": "ValueError",
     "evalue": "invalid literal for int() with base 10: ''",
     "output_type": "error",
     "traceback": [
      "\u001b[1;31m---------------------------------------------------------------------------\u001b[0m",
      "\u001b[1;31mValueError\u001b[0m                                Traceback (most recent call last)",
      "\u001b[1;32m<ipython-input-6-58e129ed045b>\u001b[0m in \u001b[0;36m<module>\u001b[1;34m\u001b[0m\n\u001b[0;32m      4\u001b[0m \u001b[1;33m\u001b[0m\u001b[0m\n\u001b[0;32m      5\u001b[0m \u001b[1;32mfor\u001b[0m \u001b[0mguess\u001b[0m \u001b[1;32min\u001b[0m \u001b[0mrange\u001b[0m\u001b[1;33m(\u001b[0m\u001b[1;36m1\u001b[0m\u001b[1;33m,\u001b[0m\u001b[1;36m21\u001b[0m\u001b[1;33m)\u001b[0m\u001b[1;33m:\u001b[0m\u001b[1;33m\u001b[0m\u001b[1;33m\u001b[0m\u001b[0m\n\u001b[1;32m----> 6\u001b[1;33m     \u001b[0mguess\u001b[0m\u001b[1;33m=\u001b[0m\u001b[0mint\u001b[0m\u001b[1;33m(\u001b[0m\u001b[0minput\u001b[0m\u001b[1;33m(\u001b[0m\u001b[1;33m)\u001b[0m\u001b[1;33m)\u001b[0m\u001b[1;33m\u001b[0m\u001b[1;33m\u001b[0m\u001b[0m\n\u001b[0m\u001b[0;32m      7\u001b[0m     \u001b[1;32mif\u001b[0m \u001b[0mguess\u001b[0m\u001b[1;33m==\u001b[0m\u001b[0mthe_number\u001b[0m\u001b[1;33m:\u001b[0m\u001b[1;33m\u001b[0m\u001b[1;33m\u001b[0m\u001b[0m\n\u001b[0;32m      8\u001b[0m         \u001b[0mprint\u001b[0m\u001b[1;33m(\u001b[0m\u001b[1;34m\"congratulations!\"\u001b[0m\u001b[1;33m)\u001b[0m\u001b[1;33m\u001b[0m\u001b[1;33m\u001b[0m\u001b[0m\n",
      "\u001b[1;31mValueError\u001b[0m: invalid literal for int() with base 10: ''"
     ]
    }
   ],
   "source": [
    "import random\n",
    "the_number=random.randint(1,20)\n",
    "print(\"now you can guess the number\")\n",
    "\n",
    "for guess in range(1,21):\n",
    "    guess=int(input())\n",
    "    if guess==the_number:\n",
    "        print(\"congratulations!\")\n",
    "    elif guess!=the_number:\n",
    "        print(\"sorry please try again.\")\n",
    "if guess!=the_number:\n",
    "    print(\"I'm so sorry that you are wrong, and the right number is str(the_number)\")"
   ]
  },
  {
   "cell_type": "code",
   "execution_count": null,
   "metadata": {},
   "outputs": [],
   "source": [
    "在 for 循环中使用 range(1, 21) 来确保您有20次猜测的机会。\n",
    "使用 input() 函数来获取用户的猜测，同时将其转换为整数。\n",
    "在 if 语句中检查用户的猜测是否等于目标数字。\n",
    "如果用户猜对了，程序会打印恭喜消息并退出循环。\n",
    "如果用户20次猜测都不正确，程序会在最后打印出正确的数字。\n",
    "请注意，我还修复了一些语法错误，如 randint 改为 range，并在 print 语句中使用双引号包裹字符串。希望这有助于您的项目！如果您还有其他问题，请随时提出。"
   ]
  },
  {
   "cell_type": "markdown",
   "metadata": {},
   "source": [
    "-----------------------------------------------------------------------------\n",
    "# Exercise 08\n",
    "Ask a sentence as input, then print the words in alphabetical order.\n",
    "Hint: look up how to split up a string"
   ]
  },
  {
   "cell_type": "code",
   "execution_count": 13,
   "metadata": {},
   "outputs": [
    {
     "name": "stdout",
     "output_type": "stream",
     "text": [
      "please enter a sentence to be sorted: i was a poor student but now \n",
      "['a', 'but', 'i', 'now', 'poor', 'student', 'was']\n"
     ]
    }
   ],
   "source": [
    "sentence = input(\"please enter a sentence to be sorted: \")\n",
    "words = sentence.split()\n",
    "words.sort(key=lambda x:x[0])\n",
    "print(words)"
   ]
  },
  {
   "cell_type": "code",
   "execution_count": null,
   "metadata": {},
   "outputs": [],
   "source": [
    "split()指按照括号内的内容进行分割；sort()默认先按照0位排序然后再按照1位排序，key=lambda x:x[0]指按照0位排序"
   ]
  },
  {
   "cell_type": "code",
   "execution_count": 15,
   "metadata": {},
   "outputs": [
    {
     "name": "stdout",
     "output_type": "stream",
     "text": [
      "请输入要排序的句子: i was a poor student but now\n",
      "['was', 'student', 'poor', 'now', 'i', 'but', 'a']\n"
     ]
    }
   ],
   "source": [
    "sentence = input(\"请输入要排序的句子: \")\n",
    "words = sentence.split()\n",
    "words.sort(key=lambda x: x[0], reverse=True)\n",
    "print(words)"
   ]
  },
  {
   "cell_type": "code",
   "execution_count": null,
   "metadata": {},
   "outputs": [],
   "source": [
    "reverse=True 指降序排序"
   ]
  },
  {
   "cell_type": "markdown",
   "metadata": {},
   "source": [
    "-----------------------------------------------------------------------------\n",
    "# Exercise 09\n",
    "Write a program using for loops to print a christmas tree of x lines high\n",
    "specified by the user.\n",
    "(use for loops)\n",
    "so for instance, a chrismas tree of 4 high should looks like this:\n",
    "\n",
    "```\n",
    "\n",
    "    *\n",
    "   ***\n",
    "  *****\n",
    " *******\n",
    "    |\n",
    "\n",
    "```\n",
    "\n",
    "hint: first combine strings into a variable before printing"
   ]
  },
  {
   "cell_type": "code",
   "execution_count": 16,
   "metadata": {},
   "outputs": [
    {
     "name": "stdout",
     "output_type": "stream",
     "text": [
      "choose your tree height please:6\n",
      "     *     \n",
      "    ***    \n",
      "   *****   \n",
      "  *******  \n",
      " ********* \n",
      "***********\n"
     ]
    }
   ],
   "source": [
    "height=int(input(\"choose your tree height please:\"))\n",
    "for i in range(1,height+1):\n",
    "    spaces=\" \"*(height-i)\n",
    "    stars=\"*\"*(i*2-1)\n",
    "    print(spaces+stars+spaces)"
   ]
  },
  {
   "cell_type": "markdown",
   "metadata": {},
   "source": [
    "-----------------------------------------------------------------------------\n",
    "# Exercise 10\n",
    "Write a piece of code that prints the first n numbers of the padovan sequence"
   ]
  },
  {
   "cell_type": "code",
   "execution_count": 18,
   "metadata": {},
   "outputs": [
    {
     "name": "stdout",
     "output_type": "stream",
     "text": [
      "10\n",
      "1\n",
      "1\n",
      "1\n",
      "2\n",
      "2\n",
      "3\n",
      "4\n",
      "5\n",
      "7\n",
      "9\n"
     ]
    }
   ],
   "source": [
    "a=1\n",
    "b=1\n",
    "c=1\n",
    "\n",
    "n=int(input())\n",
    "\n",
    "for i in range(n):\n",
    "    print(a)\n",
    "    d=a+b\n",
    "    a=b\n",
    "    b=c\n",
    "    c=d\n",
    "  \n",
    "    \n",
    "    \n",
    "    \n",
    "    \n",
    "  "
   ]
  },
  {
   "cell_type": "code",
   "execution_count": null,
   "metadata": {},
   "outputs": [],
   "source": []
  }
 ],
 "metadata": {
  "kernelspec": {
   "display_name": "Python 3",
   "language": "python",
   "name": "python3"
  },
  "language_info": {
   "codemirror_mode": {
    "name": "ipython",
    "version": 3
   },
   "file_extension": ".py",
   "mimetype": "text/x-python",
   "name": "python",
   "nbconvert_exporter": "python",
   "pygments_lexer": "ipython3",
   "version": "3.8.5"
  }
 },
 "nbformat": 4,
 "nbformat_minor": 5
}
